{
 "cells": [
  {
   "cell_type": "markdown",
   "metadata": {},
   "source": [
    "# Homework Lecture5"
   ]
  },
  {
   "cell_type": "markdown",
   "metadata": {},
   "source": [
    "LDA and Logistic Classification and Feature Development with the  MNIST image dataset"
   ]
  },
  {
   "cell_type": "markdown",
   "metadata": {},
   "source": [
    "## Preliminaries"
   ]
  },
  {
   "cell_type": "markdown",
   "metadata": {},
   "source": [
    "### Imports"
   ]
  },
  {
   "cell_type": "code",
   "execution_count": 45,
   "metadata": {
    "ExecuteTime": {
     "end_time": "2018-03-02T02:53:48.522285Z",
     "start_time": "2018-03-02T02:53:43.783853Z"
    }
   },
   "outputs": [],
   "source": [
    "import pickle\n",
    "import numpy as np\n",
    "import pandas as pd\n",
    "import matplotlib.pyplot as plt\n",
    "from sklearn.discriminant_analysis import LinearDiscriminantAnalysis as LDA\n",
    "from sklearn.linear_model import LogisticRegression as LR\n",
    "from sklearn.model_selection import train_test_split, KFold\n",
    "import sys\n",
    "sys.path.append(\"../..\")\n",
    "from E4525_ML import mnist\n",
    "from E4525_ML.multiclass_logistic import LogisticGDClassifier as LGC\n",
    "%matplotlib inline\n",
    "import gzip"
   ]
  },
  {
   "cell_type": "markdown",
   "metadata": {
    "ExecuteTime": {
     "end_time": "2018-02-15T11:06:16.497625Z",
     "start_time": "2018-02-15T11:06:16.466372Z"
    }
   },
   "source": [
    "### Random Seed"
   ]
  },
  {
   "cell_type": "code",
   "execution_count": 2,
   "metadata": {
    "ExecuteTime": {
     "end_time": "2018-03-02T02:53:48.537898Z",
     "start_time": "2018-03-02T02:53:48.522285Z"
    }
   },
   "outputs": [],
   "source": [
    "seed=458\n",
    "np.random.seed(seed)"
   ]
  },
  {
   "cell_type": "markdown",
   "metadata": {},
   "source": [
    "### Data Directories"
   ]
  },
  {
   "cell_type": "code",
   "execution_count": 12,
   "metadata": {
    "ExecuteTime": {
     "end_time": "2018-03-02T02:53:48.561796Z",
     "start_time": "2018-03-02T02:53:48.537898Z"
    }
   },
   "outputs": [],
   "source": [
    "data_dir=r\"../raw/mnist/\""
   ]
  },
  {
   "cell_type": "markdown",
   "metadata": {},
   "source": [
    "<div class=\"alert alert-block alert-info\"> Problem 0 </div>\n",
    "Make sure to **update** the file `mnist.py` on the `E4525_ML` directory (new version posted on Canvas).\n",
    "\n",
    "You will need the **updated** version of that file to complete the last section of this notebook."
   ]
  },
  {
   "cell_type": "markdown",
   "metadata": {},
   "source": [
    "Done!"
   ]
  },
  {
   "cell_type": "markdown",
   "metadata": {},
   "source": [
    "## Read Data"
   ]
  },
  {
   "cell_type": "markdown",
   "metadata": {},
   "source": [
    "<div class=\"alert alert-block alert-info\"> Problem 1.0 </div>\n",
    "Read MNIST data set and labels,  also read the MNMIST test data set and test labels"
   ]
  },
  {
   "cell_type": "code",
   "execution_count": 66,
   "metadata": {
    "ExecuteTime": {
     "end_time": "2018-03-02T02:53:49.201245Z",
     "start_time": "2018-03-02T02:53:48.563202Z"
    }
   },
   "outputs": [
    {
     "name": "stdout",
     "output_type": "stream",
     "text": [
      "(60000, 28, 28) (60000,)\n"
     ]
    }
   ],
   "source": [
    "images_filename=data_dir+\"train-images-idx3-ubyte.gz\"\n",
    "labels_filename=data_dir+\"train-labels-idx1-ubyte.gz\"\n",
    "test_images_filename=data_dir+\"t10k-images-idx3-ubyte.gz\"\n",
    "test_labels_filename=data_dir+\"t10k-labels-idx1-ubyte.gz\"\n",
    "images=mnist.read_images(images_filename)\n",
    "labels=mnist.read_labels(labels_filename)    \n",
    "test_images=mnist.read_images(test_images_filename)\n",
    "test_labels=mnist.read_labels(test_labels_filename)    \n",
    "print(images.shape,labels.shape)"
   ]
  },
  {
   "cell_type": "markdown",
   "metadata": {
    "ExecuteTime": {
     "end_time": "2018-01-21T22:03:06.235419Z",
     "start_time": "2018-01-21T22:03:06.219795Z"
    }
   },
   "source": [
    "<div class=\"alert alert-block alert-info\"> Problem 1.2 </div>\n",
    "Use `skelearn`'s `train_test_split` function to separate the MNIST samples into  a 15% validation set and a  training sample.\n"
   ]
  },
  {
   "cell_type": "code",
   "execution_count": 67,
   "metadata": {
    "ExecuteTime": {
     "end_time": "2018-03-02T02:53:49.370644Z",
     "start_time": "2018-03-02T02:53:49.201245Z"
    }
   },
   "outputs": [],
   "source": [
    "X_train, X_test, y_train, y_test = train_test_split(images, labels, test_size=0.15, random_state=1)\n",
    "X_train, X_val, y_train, y_val = train_test_split(X_train, y_train, test_size=0.15, random_state=1)"
   ]
  },
  {
   "cell_type": "code",
   "execution_count": 68,
   "metadata": {},
   "outputs": [
    {
     "data": {
      "text/plain": [
       "(43350, 28, 28)"
      ]
     },
     "execution_count": 68,
     "metadata": {},
     "output_type": "execute_result"
    }
   ],
   "source": [
    "X_train.shape"
   ]
  },
  {
   "cell_type": "code",
   "execution_count": 69,
   "metadata": {},
   "outputs": [
    {
     "data": {
      "text/plain": [
       "(7650, 28, 28)"
      ]
     },
     "execution_count": 69,
     "metadata": {},
     "output_type": "execute_result"
    }
   ],
   "source": [
    "X_val.shape"
   ]
  },
  {
   "cell_type": "markdown",
   "metadata": {},
   "source": [
    "## LDA"
   ]
  },
  {
   "cell_type": "markdown",
   "metadata": {
    "ExecuteTime": {
     "end_time": "2018-01-21T22:09:15.766264Z",
     "start_time": "2018-01-21T22:09:15.750639Z"
    }
   },
   "source": [
    "<div class=\"alert alert-block alert-info\"> Problem 2.1 </div>\n",
    "fit an LDA model on the training data set using `sklearns` `LinearDiscriminantAnalysis` classifier "
   ]
  },
  {
   "cell_type": "code",
   "execution_count": 18,
   "metadata": {
    "ExecuteTime": {
     "end_time": "2018-03-02T02:53:56.122416Z",
     "start_time": "2018-03-02T02:53:49.370644Z"
    }
   },
   "outputs": [],
   "source": [
    "clf = LDA()"
   ]
  },
  {
   "cell_type": "code",
   "execution_count": 22,
   "metadata": {},
   "outputs": [
    {
     "name": "stderr",
     "output_type": "stream",
     "text": [
      "C:\\Users\\jpgur\\Anaconda3\\lib\\site-packages\\sklearn\\discriminant_analysis.py:388: UserWarning: Variables are collinear.\n",
      "  warnings.warn(\"Variables are collinear.\")\n"
     ]
    },
    {
     "data": {
      "text/plain": [
       "LinearDiscriminantAnalysis(n_components=None, priors=None, shrinkage=None,\n",
       "              solver='svd', store_covariance=False, tol=0.0001)"
      ]
     },
     "execution_count": 22,
     "metadata": {},
     "output_type": "execute_result"
    }
   ],
   "source": [
    "clf.fit(X_train.reshape(43350,-1),y_train)"
   ]
  },
  {
   "cell_type": "markdown",
   "metadata": {
    "ExecuteTime": {
     "end_time": "2018-02-27T23:22:08.665966Z",
     "start_time": "2018-02-27T23:22:08.656899Z"
    }
   },
   "source": [
    "<div class=\"alert alert-block alert-info\"> Problem 2.2 </div>\n",
    "Compute model accuracy on the training set"
   ]
  },
  {
   "cell_type": "code",
   "execution_count": 23,
   "metadata": {
    "ExecuteTime": {
     "end_time": "2018-03-02T02:53:56.250935Z",
     "start_time": "2018-03-02T02:53:56.124604Z"
    }
   },
   "outputs": [],
   "source": [
    "Y_pred=clf.predict(X_train.reshape(43350,-1))"
   ]
  },
  {
   "cell_type": "code",
   "execution_count": 24,
   "metadata": {},
   "outputs": [
    {
     "data": {
      "text/plain": [
       "('Training accuracy', 0.8733794694348328)"
      ]
     },
     "execution_count": 24,
     "metadata": {},
     "output_type": "execute_result"
    }
   ],
   "source": [
    "\"Training accuracy\",np.mean(Y_pred==y_train)"
   ]
  },
  {
   "cell_type": "markdown",
   "metadata": {
    "ExecuteTime": {
     "end_time": "2018-02-27T23:22:33.457547Z",
     "start_time": "2018-02-27T23:22:33.449526Z"
    }
   },
   "source": [
    "<div class=\"alert alert-block alert-info\"> Problem 2.3 </div>\n",
    "Compute accuracy of the model on the validation set"
   ]
  },
  {
   "cell_type": "code",
   "execution_count": 26,
   "metadata": {
    "ExecuteTime": {
     "end_time": "2018-03-02T02:53:56.284022Z",
     "start_time": "2018-03-02T02:53:56.253442Z"
    }
   },
   "outputs": [],
   "source": [
    "Y_valpred=clf.predict(X_val.reshape(7650,-1))"
   ]
  },
  {
   "cell_type": "code",
   "execution_count": 27,
   "metadata": {},
   "outputs": [
    {
     "data": {
      "text/plain": [
       "('Validation accuracy', 0.8606535947712418)"
      ]
     },
     "execution_count": 27,
     "metadata": {},
     "output_type": "execute_result"
    }
   ],
   "source": [
    "\"Validation accuracy\",np.mean(Y_valpred==y_val)"
   ]
  },
  {
   "cell_type": "markdown",
   "metadata": {},
   "source": [
    "## Logistic Regression"
   ]
  },
  {
   "cell_type": "markdown",
   "metadata": {},
   "source": [
    "<div class=\"alert alert-block alert-info\"> Problem 3.1 </div>\n",
    "\n",
    "Use the `LogisticGDClassifier` class from `E4525_ML.multiclass_logistic` module to fit a logistic model"
   ]
  },
  {
   "cell_type": "code",
   "execution_count": 30,
   "metadata": {
    "ExecuteTime": {
     "end_time": "2018-03-02T02:54:18.808353Z",
     "start_time": "2018-03-02T02:53:56.286028Z"
    }
   },
   "outputs": [],
   "source": [
    "model = LGC()"
   ]
  },
  {
   "cell_type": "code",
   "execution_count": 31,
   "metadata": {},
   "outputs": [
    {
     "name": "stdout",
     "output_type": "stream",
     "text": [
      "2019-11-06 20:00:07|\t0: TRAIN loss 2.3974,  acc 0.0450\n",
      "2019-11-06 20:00:08|\t10: TRAIN loss 0.2073,  acc 0.9420\n",
      "2019-11-06 20:00:10|\t20: TRAIN loss 0.1884,  acc 0.9550\n",
      "2019-11-06 20:00:11|\t30: TRAIN loss 0.2090,  acc 0.9460\n",
      "2019-11-06 20:00:13|\t40: TRAIN loss 0.2228,  acc 0.9330\n",
      "2019-11-06 20:00:14|\t50: TRAIN loss 0.2326,  acc 0.9390\n",
      "2019-11-06 20:00:15|\t60: TRAIN loss 0.2866,  acc 0.9270\n",
      "2019-11-06 20:00:17|\t70: TRAIN loss 0.1874,  acc 0.9440\n",
      "2019-11-06 20:00:18|\t80: TRAIN loss 0.2336,  acc 0.9290\n",
      "2019-11-06 20:00:20|\t90: TRAIN loss 0.1790,  acc 0.9540\n",
      "2019-11-06 20:00:21|\t99: TRAIN loss 0.2310,  acc 0.9380\n"
     ]
    }
   ],
   "source": [
    "model.fit(X_train.reshape(43350,-1),y_train)"
   ]
  },
  {
   "cell_type": "markdown",
   "metadata": {},
   "source": [
    "<div class=\"alert alert-block alert-info\"> Problem 3.2 </div>\n",
    "Compute model accuracy in the training data set"
   ]
  },
  {
   "cell_type": "code",
   "execution_count": 32,
   "metadata": {
    "ExecuteTime": {
     "end_time": "2018-03-02T02:54:18.909580Z",
     "start_time": "2018-03-02T02:54:18.808353Z"
    }
   },
   "outputs": [],
   "source": [
    "Y_pred_LGC=model.predict(X_train.reshape(43350,-1))"
   ]
  },
  {
   "cell_type": "code",
   "execution_count": 33,
   "metadata": {},
   "outputs": [
    {
     "data": {
      "text/plain": [
       "('Training accuracy', 0.9378316032295271)"
      ]
     },
     "execution_count": 33,
     "metadata": {},
     "output_type": "execute_result"
    }
   ],
   "source": [
    "\"Training accuracy\",np.mean(Y_pred_LGC==y_train)"
   ]
  },
  {
   "cell_type": "markdown",
   "metadata": {
    "ExecuteTime": {
     "end_time": "2018-02-28T11:10:43.634394Z",
     "start_time": "2018-02-28T11:10:43.627379Z"
    }
   },
   "source": [
    "<div class=\"alert alert-block alert-info\"> Problem 3.3 </div>\n",
    "Compute model accuracy in the valuation data set"
   ]
  },
  {
   "cell_type": "code",
   "execution_count": 34,
   "metadata": {
    "ExecuteTime": {
     "end_time": "2018-03-02T02:54:18.941595Z",
     "start_time": "2018-03-02T02:54:18.909580Z"
    }
   },
   "outputs": [],
   "source": [
    "Y_valpred_LGC=model.predict(X_val.reshape(7650,-1))"
   ]
  },
  {
   "cell_type": "code",
   "execution_count": 35,
   "metadata": {},
   "outputs": [
    {
     "data": {
      "text/plain": [
       "('Validation accuracy', 0.9158169934640523)"
      ]
     },
     "execution_count": 35,
     "metadata": {},
     "output_type": "execute_result"
    }
   ],
   "source": [
    "\"Validation accuracy\",np.mean(Y_valpred_LGC==y_val)"
   ]
  },
  {
   "cell_type": "markdown",
   "metadata": {},
   "source": [
    "## Feature Engineering in one Dimension"
   ]
  },
  {
   "cell_type": "code",
   "execution_count": 36,
   "metadata": {
    "ExecuteTime": {
     "end_time": "2018-03-02T02:54:18.953092Z",
     "start_time": "2018-03-02T02:54:18.945578Z"
    }
   },
   "outputs": [],
   "source": [
    "N=50\n",
    "N_val=1000"
   ]
  },
  {
   "cell_type": "code",
   "execution_count": 37,
   "metadata": {
    "ExecuteTime": {
     "end_time": "2018-03-02T02:54:18.968123Z",
     "start_time": "2018-03-02T02:54:18.957105Z"
    }
   },
   "outputs": [],
   "source": [
    "def f(x):\n",
    "    return 10*(1-4*(np.abs(np.abs(x)-1)))"
   ]
  },
  {
   "cell_type": "code",
   "execution_count": 48,
   "metadata": {
    "ExecuteTime": {
     "end_time": "2018-03-02T02:54:18.988127Z",
     "start_time": "2018-03-02T02:54:18.972126Z"
    }
   },
   "outputs": [],
   "source": [
    "def generate_sample(N):\n",
    "    X=np.random.uniform(-2,2,N)\n",
    "    eta=f(X)\n",
    "    eta.shape\n",
    "    theta=1/(1+np.exp(-eta))\n",
    "    Y= np.random.uniform(0,1,N)>theta\n",
    "    return X,Y"
   ]
  },
  {
   "cell_type": "markdown",
   "metadata": {},
   "source": [
    "<div class=\"alert alert-block alert-info\"> Problem 4.0 </div>\n",
    "Generate \n",
    "1. a training sample of variables $X$ and $Y$ with $N$ data samples\n",
    "2. a valuation set with   $N_{val}$ samples\n",
    "3. a test set with $N_{val}$ samples"
   ]
  },
  {
   "cell_type": "code",
   "execution_count": 97,
   "metadata": {
    "ExecuteTime": {
     "end_time": "2018-03-02T02:54:19.004123Z",
     "start_time": "2018-03-02T02:54:18.988127Z"
    }
   },
   "outputs": [],
   "source": [
    "X,Y = generate_sample(N)"
   ]
  },
  {
   "cell_type": "code",
   "execution_count": 98,
   "metadata": {},
   "outputs": [],
   "source": [
    "X_val, Y_val = generate_sample(N_val)"
   ]
  },
  {
   "cell_type": "code",
   "execution_count": 99,
   "metadata": {},
   "outputs": [],
   "source": [
    "X_test, Y_test = generate_sample(N_val)"
   ]
  },
  {
   "cell_type": "markdown",
   "metadata": {
    "ExecuteTime": {
     "end_time": "2018-02-28T17:55:32.365942Z",
     "start_time": "2018-02-28T17:55:32.347942Z"
    }
   },
   "source": [
    "<div class=\"alert alert-block alert-info\"> Problem 4.1 </div>\n",
    "What is the proportion of positive class ($Y=1$) samples on the training data?"
   ]
  },
  {
   "cell_type": "code",
   "execution_count": 100,
   "metadata": {
    "ExecuteTime": {
     "end_time": "2018-03-02T02:54:19.032124Z",
     "start_time": "2018-03-02T02:54:19.008125Z"
    }
   },
   "outputs": [
    {
     "data": {
      "text/plain": [
       "('Proportion of Positive Classes', 0.76)"
      ]
     },
     "execution_count": 100,
     "metadata": {},
     "output_type": "execute_result"
    }
   ],
   "source": [
    "\"Proportion of Positive Classes\",np.mean(Y==1)"
   ]
  },
  {
   "cell_type": "markdown",
   "metadata": {
    "ExecuteTime": {
     "end_time": "2018-02-28T17:39:04.058942Z",
     "start_time": "2018-02-28T17:39:04.050942Z"
    }
   },
   "source": [
    "<div class=\"alert alert-block alert-info\"> Problem 4.2 </div>\n",
    "Write a function able to generate the feature matrix\n",
    "$$\n",
    "    H_{i,d}= h_d(x_i)\n",
    "$$\n",
    "for $i=1,\\dots N$ and $d=1,\\dots D$\n",
    "\n",
    "where the functions $h_d(x)$ are defined as \n",
    "$$\n",
    "    h_d(x) = x^d\n",
    "$$\n",
    "\n",
    "[HINT] be careful to include $h_D$ in the range of functions"
   ]
  },
  {
   "cell_type": "code",
   "execution_count": 111,
   "metadata": {
    "ExecuteTime": {
     "end_time": "2018-03-02T02:54:19.051637Z",
     "start_time": "2018-03-02T02:54:19.036124Z"
    }
   },
   "outputs": [],
   "source": [
    "def generate_feature_matrix(i,D,X):\n",
    "    H = []\n",
    "    for k in range(i):\n",
    "        H.append(np.power(X[k],D))\n",
    "    return np.asarray(H)"
   ]
  },
  {
   "cell_type": "markdown",
   "metadata": {
    "ExecuteTime": {
     "end_time": "2018-02-28T17:42:00.116942Z",
     "start_time": "2018-02-28T17:42:00.110942Z"
    }
   },
   "source": [
    "<div class=\"alert alert-block alert-info\"> Problem 4.3 </div>\n",
    "1. Train  a logistic regression model (use sklearn `LogisticRegression` class) over the training data you already generated. \n",
    "2. Use the valuation set  to select the best value of $D$ using accuracy as selection criteria.\n",
    "3. Plot accuracy on the  training and valuation sets as a function of $D$.\n",
    "\n",
    "[HINT]\n",
    "1. You only need to consider the range $D=1,\\dots 10$.\n",
    "2. Remember to disable regularization by setting the parameter $C$ of the `LogisticRegression` class to a very large number.\n",
    "\n"
   ]
  },
  {
   "cell_type": "code",
   "execution_count": 102,
   "metadata": {
    "ExecuteTime": {
     "end_time": "2018-03-02T02:54:19.300275Z",
     "start_time": "2018-03-02T02:54:19.096174Z"
    }
   },
   "outputs": [],
   "source": [
    "model_LR = LR(C=99999999999)"
   ]
  },
  {
   "cell_type": "code",
   "execution_count": 103,
   "metadata": {},
   "outputs": [],
   "source": [
    "x = X.reshape(-1, 1)"
   ]
  },
  {
   "cell_type": "code",
   "execution_count": 104,
   "metadata": {},
   "outputs": [],
   "source": [
    "#y = Y.reshape(-1,1)"
   ]
  },
  {
   "cell_type": "code",
   "execution_count": 197,
   "metadata": {},
   "outputs": [
    {
     "name": "stderr",
     "output_type": "stream",
     "text": [
      "C:\\Users\\jpgur\\Anaconda3\\lib\\site-packages\\sklearn\\linear_model\\logistic.py:433: FutureWarning: Default solver will be changed to 'lbfgs' in 0.22. Specify a solver to silence this warning.\n",
      "  FutureWarning)\n"
     ]
    },
    {
     "data": {
      "text/plain": [
       "LogisticRegression(C=99999999999, class_weight=None, dual=False,\n",
       "          fit_intercept=True, intercept_scaling=1, max_iter=100,\n",
       "          multi_class='warn', n_jobs=None, penalty='l2', random_state=None,\n",
       "          solver='warn', tol=0.0001, verbose=0, warm_start=False)"
      ]
     },
     "execution_count": 197,
     "metadata": {},
     "output_type": "execute_result"
    }
   ],
   "source": [
    "model_LR.fit(x,Y)"
   ]
  },
  {
   "cell_type": "code",
   "execution_count": 146,
   "metadata": {},
   "outputs": [],
   "source": [
    "d1 = generate_feature_matrix(N_val,1,X_val)\n",
    "d1_train = generate_feature_matrix(N,1,X)"
   ]
  },
  {
   "cell_type": "code",
   "execution_count": 196,
   "metadata": {},
   "outputs": [],
   "source": [
    "#model_LR.fit(d1_train.reshape(-1,1),Y)"
   ]
  },
  {
   "cell_type": "code",
   "execution_count": 187,
   "metadata": {},
   "outputs": [],
   "source": [
    "d1_pred = model_LR.predict(d1.reshape(-1, 1))\n",
    "d1_train_pred = model_LR.predict(d1_train.reshape(-1, 1))"
   ]
  },
  {
   "cell_type": "code",
   "execution_count": 188,
   "metadata": {},
   "outputs": [
    {
     "name": "stdout",
     "output_type": "stream",
     "text": [
      "Validation Accuracy  0.764\n",
      "Training Accuracy  0.76\n"
     ]
    }
   ],
   "source": [
    "print(\"Validation Accuracy \",np.mean(d1_pred==Y_val))\n",
    "print(\"Training Accuracy \",np.mean(d1_train_pred==Y))"
   ]
  },
  {
   "cell_type": "code",
   "execution_count": 149,
   "metadata": {},
   "outputs": [],
   "source": [
    "d2 = generate_feature_matrix(N_val,2,X_val)\n",
    "d2_train = generate_feature_matrix(N,2,X)"
   ]
  },
  {
   "cell_type": "code",
   "execution_count": 198,
   "metadata": {},
   "outputs": [],
   "source": [
    "#model_LR.fit(d2_train.reshape(-1,1),Y)"
   ]
  },
  {
   "cell_type": "code",
   "execution_count": 190,
   "metadata": {},
   "outputs": [],
   "source": [
    "d2_pred = model_LR.predict(d2.reshape(-1, 1))\n",
    "d2_train_pred = model_LR.predict(d2_train.reshape(-1, 1))"
   ]
  },
  {
   "cell_type": "code",
   "execution_count": 191,
   "metadata": {},
   "outputs": [
    {
     "name": "stdout",
     "output_type": "stream",
     "text": [
      "Validation Accuracy  0.764\n",
      "Training Accuracy  0.76\n"
     ]
    }
   ],
   "source": [
    "print(\"Validation Accuracy \",np.mean(d2_pred==Y_val))\n",
    "print(\"Training Accuracy \",np.mean(d2_train_pred==Y))"
   ]
  },
  {
   "cell_type": "code",
   "execution_count": 152,
   "metadata": {},
   "outputs": [],
   "source": [
    "d3 = generate_feature_matrix(N_val,3,X_val)\n",
    "d3_train = generate_feature_matrix(N,3,X)"
   ]
  },
  {
   "cell_type": "code",
   "execution_count": 195,
   "metadata": {},
   "outputs": [],
   "source": [
    "#model_LR.fit(d3_train.reshape(-1,1),Y)"
   ]
  },
  {
   "cell_type": "code",
   "execution_count": 194,
   "metadata": {},
   "outputs": [
    {
     "name": "stdout",
     "output_type": "stream",
     "text": [
      "Validation Accuracy  0.764\n",
      "Training Accuracy  0.76\n"
     ]
    }
   ],
   "source": [
    "print(\"Validation Accuracy \",np.mean(d3_pred==Y_val))\n",
    "print(\"Training Accuracy \",np.mean(d3_train_pred==Y))"
   ]
  },
  {
   "cell_type": "code",
   "execution_count": 193,
   "metadata": {},
   "outputs": [],
   "source": [
    "d3_pred = model_LR.predict(d3.reshape(-1, 1))\n",
    "d3_train_pred = model_LR.predict(d3_train.reshape(-1, 1))"
   ]
  },
  {
   "cell_type": "code",
   "execution_count": 155,
   "metadata": {},
   "outputs": [],
   "source": [
    "d4 = generate_feature_matrix(N_val,4,X_val)\n",
    "d4_train = generate_feature_matrix(N,4,X)"
   ]
  },
  {
   "cell_type": "code",
   "execution_count": 156,
   "metadata": {},
   "outputs": [],
   "source": [
    "d4_pred = model_LR.predict(d4.reshape(-1, 1))\n",
    "d4_train_pred = model_LR.predict(d4_train.reshape(-1, 1))"
   ]
  },
  {
   "cell_type": "code",
   "execution_count": 157,
   "metadata": {},
   "outputs": [
    {
     "name": "stdout",
     "output_type": "stream",
     "text": [
      "Validation Accuracy  0.764\n",
      "Training Accuracy  0.76\n"
     ]
    }
   ],
   "source": [
    "print(\"Validation Accuracy \",np.mean(d4_pred==Y_val))\n",
    "print(\"Training Accuracy \",np.mean(d4_train_pred==Y))"
   ]
  },
  {
   "cell_type": "code",
   "execution_count": 158,
   "metadata": {},
   "outputs": [],
   "source": [
    "d5 = generate_feature_matrix(N_val,5,X_val)\n",
    "d5_train = generate_feature_matrix(N,5,X)"
   ]
  },
  {
   "cell_type": "code",
   "execution_count": 159,
   "metadata": {},
   "outputs": [],
   "source": [
    "d5_pred = model_LR.predict(d5.reshape(-1, 1))\n",
    "d5_train_pred = model_LR.predict(d5_train.reshape(-1, 1))"
   ]
  },
  {
   "cell_type": "code",
   "execution_count": 160,
   "metadata": {},
   "outputs": [
    {
     "name": "stdout",
     "output_type": "stream",
     "text": [
      "Validation Accuracy  0.619\n",
      "Training Accuracy  0.6\n"
     ]
    }
   ],
   "source": [
    "print(\"Validation Accuracy \",np.mean(d5_pred==Y_val))\n",
    "print(\"Training Accuracy \",np.mean(d5_train_pred==Y))"
   ]
  },
  {
   "cell_type": "code",
   "execution_count": 165,
   "metadata": {},
   "outputs": [],
   "source": [
    "d6 = generate_feature_matrix(N_val,6,X_val)\n",
    "d6_train = generate_feature_matrix(N,6,X)"
   ]
  },
  {
   "cell_type": "code",
   "execution_count": 166,
   "metadata": {},
   "outputs": [],
   "source": [
    "d6_pred = model_LR.predict(d6.reshape(-1, 1))\n",
    "d6_train_pred = model_LR.predict(d6_train.reshape(-1, 1))"
   ]
  },
  {
   "cell_type": "code",
   "execution_count": 167,
   "metadata": {},
   "outputs": [
    {
     "name": "stdout",
     "output_type": "stream",
     "text": [
      "Validation Accuracy  0.764\n",
      "Training Accuracy  0.76\n"
     ]
    }
   ],
   "source": [
    "print(\"Validation Accuracy \",np.mean(d6_pred==Y_val))\n",
    "print(\"Training Accuracy \",np.mean(d6_train_pred==Y))"
   ]
  },
  {
   "cell_type": "code",
   "execution_count": 168,
   "metadata": {},
   "outputs": [],
   "source": [
    "d7 = generate_feature_matrix(N_val,7,X_val)\n",
    "d7_train = generate_feature_matrix(N,7,X)"
   ]
  },
  {
   "cell_type": "code",
   "execution_count": 169,
   "metadata": {},
   "outputs": [],
   "source": [
    "d7_pred = model_LR.predict(d7.reshape(-1, 1))\n",
    "d7_train_pred = model_LR.predict(d7_train.reshape(-1, 1))"
   ]
  },
  {
   "cell_type": "code",
   "execution_count": 170,
   "metadata": {},
   "outputs": [
    {
     "name": "stdout",
     "output_type": "stream",
     "text": [
      "Validation Accuracy  0.588\n",
      "Training Accuracy  0.54\n"
     ]
    }
   ],
   "source": [
    "print(\"Validation Accuracy \",np.mean(d7_pred==Y_val))\n",
    "print(\"Training Accuracy \",np.mean(d7_train_pred==Y))"
   ]
  },
  {
   "cell_type": "code",
   "execution_count": 171,
   "metadata": {},
   "outputs": [],
   "source": [
    "d8 = generate_feature_matrix(N_val,8,X_val)\n",
    "d8_train = generate_feature_matrix(N,8,X)"
   ]
  },
  {
   "cell_type": "code",
   "execution_count": 172,
   "metadata": {},
   "outputs": [],
   "source": [
    "d8_pred = model_LR.predict(d8.reshape(-1, 1))\n",
    "d8_train_pred = model_LR.predict(d8_train.reshape(-1, 1))"
   ]
  },
  {
   "cell_type": "code",
   "execution_count": 173,
   "metadata": {},
   "outputs": [
    {
     "name": "stdout",
     "output_type": "stream",
     "text": [
      "Validation Accuracy  0.764\n",
      "Training Accuracy  0.76\n"
     ]
    }
   ],
   "source": [
    "print(\"Validation Accuracy \",np.mean(d8_pred==Y_val))\n",
    "print(\"Training Accuracy \",np.mean(d8_train_pred==Y))"
   ]
  },
  {
   "cell_type": "code",
   "execution_count": 175,
   "metadata": {},
   "outputs": [],
   "source": [
    "d9 = generate_feature_matrix(N_val,9,X_val)\n",
    "d9_train = generate_feature_matrix(N,9,X)"
   ]
  },
  {
   "cell_type": "code",
   "execution_count": 176,
   "metadata": {},
   "outputs": [],
   "source": [
    "d9_pred = model_LR.predict(d9.reshape(-1, 1))\n",
    "d9_train_pred = model_LR.predict(d9_train.reshape(-1, 1))"
   ]
  },
  {
   "cell_type": "code",
   "execution_count": 177,
   "metadata": {},
   "outputs": [
    {
     "name": "stdout",
     "output_type": "stream",
     "text": [
      "Validation Accuracy  0.594\n",
      "Training Accuracy  0.54\n"
     ]
    }
   ],
   "source": [
    "print(\"Validation Accuracy \",np.mean(d9_pred==Y_val))\n",
    "print(\"Training Accuracy \",np.mean(d9_train_pred==Y))"
   ]
  },
  {
   "cell_type": "code",
   "execution_count": 178,
   "metadata": {},
   "outputs": [],
   "source": [
    "d10 = generate_feature_matrix(N_val,10,X_val)\n",
    "d10_train = generate_feature_matrix(N,10,X)"
   ]
  },
  {
   "cell_type": "code",
   "execution_count": 179,
   "metadata": {},
   "outputs": [],
   "source": [
    "d10_pred = model_LR.predict(d10.reshape(-1, 1))\n",
    "d10_train_pred = model_LR.predict(d10_train.reshape(-1, 1))"
   ]
  },
  {
   "cell_type": "code",
   "execution_count": 180,
   "metadata": {},
   "outputs": [
    {
     "name": "stdout",
     "output_type": "stream",
     "text": [
      "Validation Accuracy  0.764\n",
      "Training Accuracy  0.76\n"
     ]
    }
   ],
   "source": [
    "print(\"Validation Accuracy \",np.mean(d10_pred==Y_val))\n",
    "print(\"Training Accuracy \",np.mean(d10_train_pred==Y))"
   ]
  },
  {
   "cell_type": "code",
   "execution_count": 181,
   "metadata": {},
   "outputs": [],
   "source": [
    "B = [0.764,0.764,0.688,0.764,0.619,0.764,0.588,0.764,0.594,0.764]\n",
    "C = [1,2,3,4,5,6,7,8,9,10]\n",
    "D = [0.76,0.76,0.64,0.76,0.6,0.76,0.54,0.76,0.54,0.76]"
   ]
  },
  {
   "cell_type": "code",
   "execution_count": 145,
   "metadata": {},
   "outputs": [
    {
     "data": {
      "image/png": "[encoded data removed]",
      "text/plain": [
       "<Figure size 432x288 with 1 Axes>"
      ]
     },
     "metadata": {
      "needs_background": "light"
     },
     "output_type": "display_data"
    }
   ],
   "source": [
    "plt.plot(C,B)\n",
    "plt.xlabel('D')\n",
    "plt.ylabel('Validation Accuracy')\n",
    "plt.title('Validation Accuracy v/s D')\n",
    "plt.show()"
   ]
  },
  {
   "cell_type": "code",
   "execution_count": 182,
   "metadata": {},
   "outputs": [
    {
     "data": {
      "image/png": "[encoded data removed]",
      "text/plain": [
       "<Figure size 432x288 with 1 Axes>"
      ]
     },
     "metadata": {
      "needs_background": "light"
     },
     "output_type": "display_data"
    }
   ],
   "source": [
    "plt.plot(C,D)\n",
    "plt.xlabel('D')\n",
    "plt.ylabel('Training Accuracy')\n",
    "plt.title('Training Accuracy v/s D')\n",
    "plt.show()"
   ]
  },
  {
   "cell_type": "markdown",
   "metadata": {},
   "source": [
    "<div class=\"alert alert-block alert-info\"> Problem 4.4 </div>\n",
    "Use the test set  to measure the accuracy for the optimal classifier you have found\n",
    "(do not use data from the  valuation set to train the classifier)"
   ]
  },
  {
   "cell_type": "markdown",
   "metadata": {
    "ExecuteTime": {
     "end_time": "2018-03-02T02:54:19.312275Z",
     "start_time": "2018-03-02T02:54:19.300275Z"
    }
   },
   "source": [
    "Since we have multiple classifiers with an accuracy of 0.764, we will choose D=1 as our optimal value"
   ]
  },
  {
   "cell_type": "code",
   "execution_count": 200,
   "metadata": {},
   "outputs": [],
   "source": [
    "d1_test = generate_feature_matrix(N_val,1,X_test)"
   ]
  },
  {
   "cell_type": "code",
   "execution_count": 202,
   "metadata": {},
   "outputs": [],
   "source": [
    "d1_test_pred = model_LR.predict(d1_test.reshape(-1, 1))"
   ]
  },
  {
   "cell_type": "code",
   "execution_count": 203,
   "metadata": {},
   "outputs": [
    {
     "name": "stdout",
     "output_type": "stream",
     "text": [
      "Test Accuracy  0.772\n"
     ]
    }
   ],
   "source": [
    "print(\"Test Accuracy \",np.mean(d1_test_pred==Y_test))"
   ]
  },
  {
   "cell_type": "markdown",
   "metadata": {},
   "source": [
    "## Feature Engineering for MNIST sample"
   ]
  },
  {
   "cell_type": "markdown",
   "metadata": {},
   "source": [
    "<div class=\"alert alert-block alert-info\"> Problem 5.1 </div>\n",
    "In this problem we will use `mnist.ImageFeatureModel` class to find the optimal number of orientations $\\theta$  of the oriented gradients\n",
    "features for the MNIST data set.\n",
    "\n",
    "1. use `mnist.ImageFeatureModel` to generate image oriented gradient features.\n",
    "2. use  `LogisticGDClassifier` as the base model\n",
    "3. set the block size to 4 ( this is to reduce memory use)\n",
    "4. select the best number of orientations by performing  5-Fold cross-validation on the full MNIST data set.\n",
    "5. Consider only [1,2,4,8] as possible values for the orientation\n",
    "6. Plot number of orientations vs validation accuracy\n",
    "\n",
    "[HINT] \n",
    "1. the `validation_model` function below will be useful to perform cross-validation\n",
    "2. If you run into memory trouble (your computer crashes), reduce the size of the data set.\n",
    "Make sure to  indicate this clearly on your solution.\n",
    "3. This problem is computationally expensive, make sure to allocate time to resolve it."
   ]
  },
  {
   "cell_type": "code",
   "execution_count": 60,
   "metadata": {
    "ExecuteTime": {
     "end_time": "2018-03-02T02:54:19.351788Z",
     "start_time": "2018-03-02T02:54:19.312275Z"
    }
   },
   "outputs": [],
   "source": [
    "def validate_model(model,K,X,Y):\n",
    "    folder=KFold(K,shuffle=True)\n",
    "    folds=folder.split(X,Y)\n",
    "    val_error=0.0\n",
    "    fold_count=0\n",
    "    for fold in folds:\n",
    "        train_idx,val_idx=fold\n",
    "        x_train=X[train_idx]\n",
    "        y_train=Y[train_idx]\n",
    "        x_val=X[val_idx]\n",
    "        y_val=Y[val_idx]     \n",
    "        model.fit(x_train,y_train)\n",
    "        y_pred=model.predict(x_val)\n",
    "        val_err=np.mean(y_val==y_pred)\n",
    "        val_error+=val_err\n",
    "        fold_count+=1\n",
    "        print(fold_count,val_err)\n",
    "    return val_error/K\n",
    "      "
   ]
  },
  {
   "cell_type": "code",
   "execution_count": 62,
   "metadata": {},
   "outputs": [],
   "source": [
    "model_LGDC = LGC()"
   ]
  },
  {
   "cell_type": "code",
   "execution_count": 71,
   "metadata": {},
   "outputs": [
    {
     "name": "stdout",
     "output_type": "stream",
     "text": [
      "2019-11-06 22:36:01|\t0: TRAIN loss 2.4250,  acc 0.0450\n",
      "2019-11-06 22:36:03|\t10: TRAIN loss 0.2518,  acc 0.9340\n",
      "2019-11-06 22:36:05|\t20: TRAIN loss 0.2965,  acc 0.9250\n",
      "2019-11-06 22:36:08|\t30: TRAIN loss 0.2467,  acc 0.9300\n",
      "2019-11-06 22:36:10|\t40: TRAIN loss 0.2086,  acc 0.9380\n",
      "2019-11-06 22:36:12|\t50: TRAIN loss 0.1919,  acc 0.9400\n",
      "2019-11-06 22:36:14|\t60: TRAIN loss 0.2009,  acc 0.9330\n",
      "2019-11-06 22:36:16|\t70: TRAIN loss 0.2232,  acc 0.9460\n",
      "2019-11-06 22:36:18|\t80: TRAIN loss 0.2310,  acc 0.9340\n",
      "2019-11-06 22:36:20|\t90: TRAIN loss 0.2238,  acc 0.9380\n",
      "2019-11-06 22:36:22|\t99: TRAIN loss 0.2068,  acc 0.9310\n"
     ]
    }
   ],
   "source": [
    "model_LGDC.fit(images.reshape(60000,-1),labels)"
   ]
  },
  {
   "cell_type": "code",
   "execution_count": 72,
   "metadata": {
    "ExecuteTime": {
     "end_time": "2018-03-02T03:14:27.026220Z",
     "start_time": "2018-03-02T02:54:19.356299Z"
    }
   },
   "outputs": [],
   "source": [
    "grad_features = mnist.ImageFeatureModel(model_LGDC, 4, 1)"
   ]
  },
  {
   "cell_type": "code",
   "execution_count": 74,
   "metadata": {},
   "outputs": [
    {
     "name": "stdout",
     "output_type": "stream",
     "text": [
      "2019-11-06 22:37:58|\t0: TRAIN loss 2.2901,  acc 0.1300\n",
      "2019-11-06 22:37:59|\t10: TRAIN loss 0.5939,  acc 0.8350\n",
      "2019-11-06 22:37:59|\t20: TRAIN loss 0.5240,  acc 0.8450\n",
      "2019-11-06 22:38:00|\t30: TRAIN loss 0.5435,  acc 0.8210\n",
      "2019-11-06 22:38:01|\t40: TRAIN loss 0.5164,  acc 0.8390\n",
      "2019-11-06 22:38:02|\t50: TRAIN loss 0.4716,  acc 0.8510\n",
      "2019-11-06 22:38:02|\t60: TRAIN loss 0.4334,  acc 0.8710\n",
      "2019-11-06 22:38:03|\t70: TRAIN loss 0.4410,  acc 0.8760\n",
      "2019-11-06 22:38:04|\t80: TRAIN loss 0.4976,  acc 0.8490\n",
      "2019-11-06 22:38:05|\t90: TRAIN loss 0.4367,  acc 0.8740\n",
      "2019-11-06 22:38:05|\t99: TRAIN loss 0.4413,  acc 0.8700\n",
      "1 0.8620833333333333\n",
      "2019-11-06 22:38:11|\t0: TRAIN loss 2.3210,  acc 0.0940\n",
      "2019-11-06 22:38:11|\t10: TRAIN loss 0.6104,  acc 0.8190\n",
      "2019-11-06 22:38:12|\t20: TRAIN loss 0.5657,  acc 0.8410\n",
      "2019-11-06 22:38:13|\t30: TRAIN loss 0.5712,  acc 0.8330\n",
      "2019-11-06 22:38:13|\t40: TRAIN loss 0.4926,  acc 0.8590\n",
      "2019-11-06 22:38:14|\t50: TRAIN loss 0.4662,  acc 0.8520\n",
      "2019-11-06 22:38:15|\t60: TRAIN loss 0.4881,  acc 0.8510\n",
      "2019-11-06 22:38:15|\t70: TRAIN loss 0.4685,  acc 0.8510\n",
      "2019-11-06 22:38:16|\t80: TRAIN loss 0.4745,  acc 0.8690\n",
      "2019-11-06 22:38:17|\t90: TRAIN loss 0.4414,  acc 0.8670\n",
      "2019-11-06 22:38:17|\t95: TRAIN loss 0.4250,  acc 0.8690\n",
      "2 0.86025\n",
      "2019-11-06 22:38:23|\t0: TRAIN loss 2.3116,  acc 0.0810\n",
      "2019-11-06 22:38:23|\t10: TRAIN loss 0.6001,  acc 0.8370\n",
      "2019-11-06 22:38:24|\t20: TRAIN loss 0.5213,  acc 0.8500\n",
      "2019-11-06 22:38:25|\t30: TRAIN loss 0.4851,  acc 0.8640\n",
      "2019-11-06 22:38:25|\t40: TRAIN loss 0.4824,  acc 0.8480\n",
      "2019-11-06 22:38:26|\t50: TRAIN loss 0.4556,  acc 0.8710\n",
      "2019-11-06 22:38:27|\t60: TRAIN loss 0.5186,  acc 0.8490\n",
      "2019-11-06 22:38:27|\t70: TRAIN loss 0.4881,  acc 0.8550\n",
      "2019-11-06 22:38:28|\t78: TRAIN loss 0.4773,  acc 0.8690\n",
      "3 0.8546666666666667\n",
      "2019-11-06 22:38:33|\t0: TRAIN loss 2.3236,  acc 0.0620\n",
      "2019-11-06 22:38:34|\t10: TRAIN loss 0.5390,  acc 0.8470\n",
      "2019-11-06 22:38:35|\t20: TRAIN loss 0.5253,  acc 0.8370\n",
      "2019-11-06 22:38:36|\t30: TRAIN loss 0.4418,  acc 0.8610\n",
      "2019-11-06 22:38:36|\t40: TRAIN loss 0.4585,  acc 0.8680\n",
      "2019-11-06 22:38:37|\t50: TRAIN loss 0.4649,  acc 0.8530\n",
      "2019-11-06 22:38:37|\t58: TRAIN loss 0.4175,  acc 0.8790\n",
      "4 0.8643333333333333\n",
      "2019-11-06 22:38:43|\t0: TRAIN loss 2.3413,  acc 0.0700\n",
      "2019-11-06 22:38:43|\t10: TRAIN loss 0.5666,  acc 0.8440\n",
      "2019-11-06 22:38:44|\t20: TRAIN loss 0.5379,  acc 0.8350\n",
      "2019-11-06 22:38:45|\t30: TRAIN loss 0.4783,  acc 0.8530\n",
      "2019-11-06 22:38:46|\t40: TRAIN loss 0.4999,  acc 0.8530\n",
      "2019-11-06 22:38:46|\t50: TRAIN loss 0.4736,  acc 0.8530\n",
      "2019-11-06 22:38:47|\t60: TRAIN loss 0.4655,  acc 0.8520\n",
      "2019-11-06 22:38:48|\t70: TRAIN loss 0.4769,  acc 0.8620\n",
      "2019-11-06 22:38:49|\t80: TRAIN loss 0.4776,  acc 0.8540\n",
      "2019-11-06 22:38:49|\t89: TRAIN loss 0.4518,  acc 0.8590\n",
      "5 0.8633333333333333\n"
     ]
    },
    {
     "data": {
      "text/plain": [
       "0.8609333333333332"
      ]
     },
     "execution_count": 74,
     "metadata": {},
     "output_type": "execute_result"
    }
   ],
   "source": [
    "validate_model(grad_features,5,images,labels)"
   ]
  },
  {
   "cell_type": "code",
   "execution_count": 75,
   "metadata": {},
   "outputs": [],
   "source": [
    "grad_features = mnist.ImageFeatureModel(model_LGDC, 4, 2)"
   ]
  },
  {
   "cell_type": "code",
   "execution_count": 76,
   "metadata": {},
   "outputs": [
    {
     "name": "stdout",
     "output_type": "stream",
     "text": [
      "2019-11-06 22:39:30|\t0: TRAIN loss 2.3154,  acc 0.0830\n",
      "2019-11-06 22:39:31|\t10: TRAIN loss 0.3214,  acc 0.9210\n",
      "2019-11-06 22:39:31|\t20: TRAIN loss 0.2464,  acc 0.9310\n",
      "2019-11-06 22:39:32|\t30: TRAIN loss 0.2046,  acc 0.9450\n",
      "2019-11-06 22:39:33|\t40: TRAIN loss 0.1903,  acc 0.9570\n",
      "2019-11-06 22:39:34|\t50: TRAIN loss 0.1831,  acc 0.9390\n",
      "2019-11-06 22:39:35|\t60: TRAIN loss 0.1716,  acc 0.9450\n",
      "2019-11-06 22:39:35|\t70: TRAIN loss 0.1945,  acc 0.9360\n",
      "2019-11-06 22:39:36|\t80: TRAIN loss 0.1669,  acc 0.9540\n",
      "2019-11-06 22:39:37|\t90: TRAIN loss 0.1664,  acc 0.9510\n",
      "2019-11-06 22:39:38|\t99: TRAIN loss 0.1846,  acc 0.9450\n",
      "1 0.9501666666666667\n",
      "2019-11-06 22:39:44|\t0: TRAIN loss 2.2878,  acc 0.1570\n",
      "2019-11-06 22:39:45|\t10: TRAIN loss 0.3268,  acc 0.9040\n",
      "2019-11-06 22:39:46|\t20: TRAIN loss 0.2686,  acc 0.9260\n",
      "2019-11-06 22:39:47|\t30: TRAIN loss 0.2438,  acc 0.9310\n",
      "2019-11-06 22:39:48|\t40: TRAIN loss 0.1957,  acc 0.9420\n",
      "2019-11-06 22:39:49|\t50: TRAIN loss 0.1968,  acc 0.9460\n",
      "2019-11-06 22:39:49|\t60: TRAIN loss 0.1744,  acc 0.9500\n",
      "2019-11-06 22:39:50|\t70: TRAIN loss 0.2203,  acc 0.9360\n",
      "2019-11-06 22:39:51|\t80: TRAIN loss 0.2056,  acc 0.9420\n",
      "2019-11-06 22:39:52|\t90: TRAIN loss 0.2019,  acc 0.9350\n",
      "2019-11-06 22:39:53|\t99: TRAIN loss 0.1679,  acc 0.9500\n",
      "2 0.9481666666666667\n",
      "2019-11-06 22:40:00|\t0: TRAIN loss 2.3210,  acc 0.0510\n",
      "2019-11-06 22:40:00|\t10: TRAIN loss 0.2960,  acc 0.9180\n",
      "2019-11-06 22:40:01|\t20: TRAIN loss 0.2532,  acc 0.9260\n",
      "2019-11-06 22:40:02|\t30: TRAIN loss 0.2384,  acc 0.9430\n",
      "2019-11-06 22:40:03|\t40: TRAIN loss 0.2045,  acc 0.9440\n",
      "2019-11-06 22:40:03|\t50: TRAIN loss 0.1941,  acc 0.9430\n",
      "2019-11-06 22:40:04|\t60: TRAIN loss 0.1895,  acc 0.9450\n",
      "2019-11-06 22:40:05|\t70: TRAIN loss 0.1761,  acc 0.9500\n",
      "2019-11-06 22:40:06|\t80: TRAIN loss 0.1672,  acc 0.9560\n",
      "2019-11-06 22:40:07|\t90: TRAIN loss 0.1870,  acc 0.9410\n",
      "2019-11-06 22:40:07|\t99: TRAIN loss 0.1865,  acc 0.9420\n",
      "3 0.9485\n",
      "2019-11-06 22:40:14|\t0: TRAIN loss 2.3106,  acc 0.1340\n",
      "2019-11-06 22:40:15|\t10: TRAIN loss 0.3169,  acc 0.9150\n",
      "2019-11-06 22:40:16|\t20: TRAIN loss 0.2714,  acc 0.9290\n",
      "2019-11-06 22:40:17|\t30: TRAIN loss 0.2080,  acc 0.9430\n",
      "2019-11-06 22:40:18|\t40: TRAIN loss 0.2107,  acc 0.9470\n",
      "2019-11-06 22:40:19|\t50: TRAIN loss 0.2366,  acc 0.9290\n",
      "2019-11-06 22:40:19|\t60: TRAIN loss 0.1797,  acc 0.9450\n",
      "2019-11-06 22:40:20|\t70: TRAIN loss 0.2147,  acc 0.9410\n",
      "2019-11-06 22:40:21|\t80: TRAIN loss 0.1849,  acc 0.9500\n",
      "2019-11-06 22:40:22|\t90: TRAIN loss 0.1669,  acc 0.9600\n",
      "2019-11-06 22:40:23|\t99: TRAIN loss 0.1865,  acc 0.9450\n",
      "4 0.9466666666666667\n",
      "2019-11-06 22:40:29|\t0: TRAIN loss 2.3286,  acc 0.0930\n",
      "2019-11-06 22:40:30|\t10: TRAIN loss 0.2957,  acc 0.9180\n",
      "2019-11-06 22:40:31|\t20: TRAIN loss 0.2561,  acc 0.9310\n",
      "2019-11-06 22:40:32|\t30: TRAIN loss 0.2130,  acc 0.9380\n",
      "2019-11-06 22:40:32|\t40: TRAIN loss 0.1952,  acc 0.9390\n",
      "2019-11-06 22:40:33|\t50: TRAIN loss 0.2152,  acc 0.9380\n",
      "2019-11-06 22:40:34|\t60: TRAIN loss 0.2100,  acc 0.9410\n",
      "2019-11-06 22:40:35|\t70: TRAIN loss 0.1753,  acc 0.9550\n",
      "2019-11-06 22:40:35|\t80: TRAIN loss 0.2021,  acc 0.9350\n",
      "2019-11-06 22:40:36|\t90: TRAIN loss 0.1993,  acc 0.9440\n",
      "2019-11-06 22:40:37|\t99: TRAIN loss 0.1752,  acc 0.9440\n",
      "5 0.9468333333333333\n"
     ]
    },
    {
     "data": {
      "text/plain": [
       "0.9480666666666668"
      ]
     },
     "execution_count": 76,
     "metadata": {},
     "output_type": "execute_result"
    }
   ],
   "source": [
    "validate_model(grad_features,5,images,labels)"
   ]
  },
  {
   "cell_type": "code",
   "execution_count": 77,
   "metadata": {},
   "outputs": [],
   "source": [
    "grad_features = mnist.ImageFeatureModel(model_LGDC, 4, 4)"
   ]
  },
  {
   "cell_type": "code",
   "execution_count": 78,
   "metadata": {},
   "outputs": [
    {
     "name": "stdout",
     "output_type": "stream",
     "text": [
      "2019-11-06 22:41:31|\t0: TRAIN loss 2.3451,  acc 0.0390\n",
      "2019-11-06 22:41:32|\t10: TRAIN loss 0.2122,  acc 0.9460\n",
      "2019-11-06 22:41:32|\t20: TRAIN loss 0.1904,  acc 0.9490\n",
      "2019-11-06 22:41:33|\t30: TRAIN loss 0.1624,  acc 0.9580\n",
      "2019-11-06 22:41:34|\t40: TRAIN loss 0.1435,  acc 0.9590\n",
      "2019-11-06 22:41:35|\t50: TRAIN loss 0.1221,  acc 0.9670\n",
      "2019-11-06 22:41:36|\t60: TRAIN loss 0.1216,  acc 0.9680\n",
      "2019-11-06 22:41:37|\t70: TRAIN loss 0.1447,  acc 0.9620\n",
      "2019-11-06 22:41:38|\t80: TRAIN loss 0.1193,  acc 0.9660\n",
      "2019-11-06 22:41:39|\t90: TRAIN loss 0.1033,  acc 0.9700\n",
      "2019-11-06 22:41:40|\t99: TRAIN loss 0.1074,  acc 0.9690\n",
      "1 0.96725\n",
      "2019-11-06 22:41:49|\t0: TRAIN loss 2.3278,  acc 0.0610\n",
      "2019-11-06 22:41:50|\t10: TRAIN loss 0.2331,  acc 0.9380\n",
      "2019-11-06 22:41:51|\t20: TRAIN loss 0.2053,  acc 0.9440\n",
      "2019-11-06 22:41:52|\t30: TRAIN loss 0.1551,  acc 0.9650\n",
      "2019-11-06 22:41:53|\t40: TRAIN loss 0.1579,  acc 0.9630\n",
      "2019-11-06 22:41:53|\t50: TRAIN loss 0.1587,  acc 0.9570\n",
      "2019-11-06 22:41:54|\t60: TRAIN loss 0.1380,  acc 0.9740\n",
      "2019-11-06 22:41:55|\t70: TRAIN loss 0.1102,  acc 0.9710\n",
      "2019-11-06 22:41:56|\t80: TRAIN loss 0.0938,  acc 0.9770\n",
      "2019-11-06 22:41:57|\t90: TRAIN loss 0.1368,  acc 0.9610\n",
      "2019-11-06 22:41:58|\t99: TRAIN loss 0.1120,  acc 0.9660\n",
      "2 0.96675\n",
      "2019-11-06 22:42:07|\t0: TRAIN loss 2.3334,  acc 0.0720\n",
      "2019-11-06 22:42:08|\t10: TRAIN loss 0.2213,  acc 0.9470\n",
      "2019-11-06 22:42:09|\t20: TRAIN loss 0.2018,  acc 0.9480\n",
      "2019-11-06 22:42:10|\t30: TRAIN loss 0.1419,  acc 0.9580\n",
      "2019-11-06 22:42:11|\t40: TRAIN loss 0.1342,  acc 0.9630\n",
      "2019-11-06 22:42:12|\t50: TRAIN loss 0.1428,  acc 0.9630\n",
      "2019-11-06 22:42:13|\t60: TRAIN loss 0.1287,  acc 0.9620\n",
      "2019-11-06 22:42:14|\t70: TRAIN loss 0.1236,  acc 0.9710\n",
      "2019-11-06 22:42:15|\t80: TRAIN loss 0.1208,  acc 0.9700\n",
      "2019-11-06 22:42:16|\t90: TRAIN loss 0.1302,  acc 0.9570\n",
      "2019-11-06 22:42:17|\t99: TRAIN loss 0.1149,  acc 0.9650\n",
      "3 0.9665\n",
      "2019-11-06 22:42:26|\t0: TRAIN loss 2.2804,  acc 0.1070\n",
      "2019-11-06 22:42:27|\t10: TRAIN loss 0.2446,  acc 0.9300\n",
      "2019-11-06 22:42:28|\t20: TRAIN loss 0.1971,  acc 0.9500\n",
      "2019-11-06 22:42:28|\t30: TRAIN loss 0.1691,  acc 0.9550\n",
      "2019-11-06 22:42:29|\t40: TRAIN loss 0.1368,  acc 0.9660\n",
      "2019-11-06 22:42:30|\t50: TRAIN loss 0.1381,  acc 0.9660\n",
      "2019-11-06 22:42:31|\t60: TRAIN loss 0.1366,  acc 0.9600\n",
      "2019-11-06 22:42:32|\t70: TRAIN loss 0.1240,  acc 0.9680\n",
      "2019-11-06 22:42:33|\t80: TRAIN loss 0.1177,  acc 0.9710\n",
      "2019-11-06 22:42:34|\t90: TRAIN loss 0.1236,  acc 0.9770\n",
      "2019-11-06 22:42:35|\t99: TRAIN loss 0.1237,  acc 0.9670\n",
      "4 0.9655833333333333\n",
      "2019-11-06 22:42:44|\t0: TRAIN loss 2.3106,  acc 0.0960\n",
      "2019-11-06 22:42:45|\t10: TRAIN loss 0.2316,  acc 0.9360\n",
      "2019-11-06 22:42:46|\t20: TRAIN loss 0.2127,  acc 0.9380\n",
      "2019-11-06 22:42:47|\t30: TRAIN loss 0.1868,  acc 0.9520\n",
      "2019-11-06 22:42:48|\t40: TRAIN loss 0.1524,  acc 0.9680\n",
      "2019-11-06 22:42:48|\t50: TRAIN loss 0.1385,  acc 0.9580\n",
      "2019-11-06 22:42:49|\t60: TRAIN loss 0.1341,  acc 0.9600\n",
      "2019-11-06 22:42:50|\t70: TRAIN loss 0.1190,  acc 0.9630\n",
      "2019-11-06 22:42:51|\t80: TRAIN loss 0.1337,  acc 0.9710\n",
      "2019-11-06 22:42:52|\t90: TRAIN loss 0.1149,  acc 0.9700\n",
      "2019-11-06 22:42:53|\t99: TRAIN loss 0.1330,  acc 0.9590\n",
      "5 0.9660833333333333\n"
     ]
    },
    {
     "data": {
      "text/plain": [
       "0.9664333333333334"
      ]
     },
     "execution_count": 78,
     "metadata": {},
     "output_type": "execute_result"
    }
   ],
   "source": [
    "validate_model(grad_features,5,images,labels)"
   ]
  },
  {
   "cell_type": "code",
   "execution_count": 79,
   "metadata": {},
   "outputs": [],
   "source": [
    "grad_features = mnist.ImageFeatureModel(model_LGDC, 4, 8)"
   ]
  },
  {
   "cell_type": "code",
   "execution_count": 80,
   "metadata": {},
   "outputs": [
    {
     "name": "stdout",
     "output_type": "stream",
     "text": [
      "2019-11-06 22:43:10|\t0: TRAIN loss 2.3179,  acc 0.0820\n",
      "2019-11-06 22:43:12|\t10: TRAIN loss 0.1972,  acc 0.9460\n",
      "2019-11-06 22:43:13|\t20: TRAIN loss 0.1653,  acc 0.9550\n",
      "2019-11-06 22:43:14|\t30: TRAIN loss 0.1331,  acc 0.9610\n",
      "2019-11-06 22:43:15|\t40: TRAIN loss 0.1032,  acc 0.9760\n",
      "2019-11-06 22:43:17|\t50: TRAIN loss 0.1214,  acc 0.9680\n",
      "2019-11-06 22:43:18|\t60: TRAIN loss 0.0920,  acc 0.9810\n",
      "2019-11-06 22:43:19|\t70: TRAIN loss 0.1111,  acc 0.9690\n",
      "2019-11-06 22:43:20|\t80: TRAIN loss 0.0938,  acc 0.9730\n",
      "2019-11-06 22:43:21|\t90: TRAIN loss 0.1064,  acc 0.9650\n",
      "2019-11-06 22:43:23|\t98: TRAIN loss 0.1000,  acc 0.9720\n",
      "1 0.9724166666666667\n",
      "2019-11-06 22:43:37|\t0: TRAIN loss 2.3235,  acc 0.0960\n",
      "2019-11-06 22:43:38|\t10: TRAIN loss 0.1613,  acc 0.9550\n",
      "2019-11-06 22:43:39|\t20: TRAIN loss 0.1530,  acc 0.9610\n",
      "2019-11-06 22:43:40|\t30: TRAIN loss 0.1381,  acc 0.9690\n",
      "2019-11-06 22:43:41|\t40: TRAIN loss 0.1192,  acc 0.9740\n",
      "2019-11-06 22:43:43|\t50: TRAIN loss 0.1267,  acc 0.9660\n",
      "2019-11-06 22:43:44|\t60: TRAIN loss 0.0931,  acc 0.9780\n",
      "2019-11-06 22:43:45|\t70: TRAIN loss 0.1105,  acc 0.9630\n",
      "2019-11-06 22:43:46|\t80: TRAIN loss 0.1087,  acc 0.9650\n",
      "2019-11-06 22:43:48|\t90: TRAIN loss 0.0862,  acc 0.9750\n",
      "2019-11-06 22:43:49|\t99: TRAIN loss 0.0837,  acc 0.9730\n",
      "2 0.974\n",
      "2019-11-06 22:44:03|\t0: TRAIN loss 2.3131,  acc 0.0800\n",
      "2019-11-06 22:44:04|\t10: TRAIN loss 0.2159,  acc 0.9490\n",
      "2019-11-06 22:44:06|\t20: TRAIN loss 0.1315,  acc 0.9570\n",
      "2019-11-06 22:44:07|\t30: TRAIN loss 0.1069,  acc 0.9640\n",
      "2019-11-06 22:44:08|\t40: TRAIN loss 0.1384,  acc 0.9640\n",
      "2019-11-06 22:44:09|\t50: TRAIN loss 0.0864,  acc 0.9750\n",
      "2019-11-06 22:44:10|\t60: TRAIN loss 0.1126,  acc 0.9650\n",
      "2019-11-06 22:44:12|\t70: TRAIN loss 0.0989,  acc 0.9740\n",
      "2019-11-06 22:44:13|\t80: TRAIN loss 0.0890,  acc 0.9760\n",
      "2019-11-06 22:44:14|\t90: TRAIN loss 0.0721,  acc 0.9800\n",
      "2019-11-06 22:44:16|\t99: TRAIN loss 0.0993,  acc 0.9710\n",
      "3 0.9705\n",
      "2019-11-06 22:44:31|\t0: TRAIN loss 2.3023,  acc 0.0930\n",
      "2019-11-06 22:44:32|\t10: TRAIN loss 0.1986,  acc 0.9450\n",
      "2019-11-06 22:44:34|\t20: TRAIN loss 0.1312,  acc 0.9670\n",
      "2019-11-06 22:44:35|\t30: TRAIN loss 0.1332,  acc 0.9620\n",
      "2019-11-06 22:44:36|\t40: TRAIN loss 0.0966,  acc 0.9730\n",
      "2019-11-06 22:44:37|\t50: TRAIN loss 0.1088,  acc 0.9720\n",
      "2019-11-06 22:44:39|\t60: TRAIN loss 0.1037,  acc 0.9660\n",
      "2019-11-06 22:44:40|\t70: TRAIN loss 0.0900,  acc 0.9790\n",
      "2019-11-06 22:44:41|\t80: TRAIN loss 0.1124,  acc 0.9640\n",
      "2019-11-06 22:44:42|\t90: TRAIN loss 0.1026,  acc 0.9690\n",
      "2019-11-06 22:44:43|\t99: TRAIN loss 0.0795,  acc 0.9800\n",
      "4 0.9721666666666666\n",
      "2019-11-06 22:44:59|\t0: TRAIN loss 2.3211,  acc 0.0510\n",
      "2019-11-06 22:45:00|\t10: TRAIN loss 0.1863,  acc 0.9500\n",
      "2019-11-06 22:45:01|\t20: TRAIN loss 0.1633,  acc 0.9520\n",
      "2019-11-06 22:45:03|\t30: TRAIN loss 0.1290,  acc 0.9660\n",
      "2019-11-06 22:45:04|\t40: TRAIN loss 0.1301,  acc 0.9650\n",
      "2019-11-06 22:45:05|\t50: TRAIN loss 0.1027,  acc 0.9720\n",
      "2019-11-06 22:45:07|\t60: TRAIN loss 0.1065,  acc 0.9720\n",
      "2019-11-06 22:45:08|\t70: TRAIN loss 0.0950,  acc 0.9730\n",
      "2019-11-06 22:45:09|\t80: TRAIN loss 0.0986,  acc 0.9720\n",
      "2019-11-06 22:45:11|\t90: TRAIN loss 0.1000,  acc 0.9740\n",
      "2019-11-06 22:45:12|\t99: TRAIN loss 0.1008,  acc 0.9720\n",
      "5 0.9721666666666666\n"
     ]
    },
    {
     "data": {
      "text/plain": [
       "0.9722500000000001"
      ]
     },
     "execution_count": 80,
     "metadata": {},
     "output_type": "execute_result"
    }
   ],
   "source": [
    "validate_model(grad_features,5,images,labels)"
   ]
  },
  {
   "cell_type": "code",
   "execution_count": 81,
   "metadata": {},
   "outputs": [],
   "source": [
    "B = [0.8609333333333332,0.9480666666666668, 0.9664333333333334, 0.9722500000000001]\n",
    "C = [1,2,4,8]"
   ]
  },
  {
   "cell_type": "code",
   "execution_count": 87,
   "metadata": {},
   "outputs": [
    {
     "data": {
      "image/png": "[encoded data removed]",
      "text/plain": [
       "<Figure size 432x288 with 1 Axes>"
      ]
     },
     "metadata": {
      "needs_background": "light"
     },
     "output_type": "display_data"
    }
   ],
   "source": [
    "plt.plot(C,B)\n",
    "plt.xlabel('Orientation')\n",
    "plt.ylabel('Validation Accuracy')\n",
    "plt.title('Validation Accuracy v/s Orientation')\n",
    "plt.show()"
   ]
  },
  {
   "cell_type": "markdown",
   "metadata": {},
   "source": [
    "<div class=\"alert alert-block alert-info\"> Problem 5.2 </div>\n",
    "\n",
    "Fit the model with the optimal number of orientations to the full MNIST data set and estimate its accuracy on the MNIST test set\n"
   ]
  },
  {
   "cell_type": "code",
   "execution_count": 88,
   "metadata": {
    "ExecuteTime": {
     "end_time": "2018-03-02T03:16:52.002722Z",
     "start_time": "2018-03-02T03:14:27.259850Z"
    }
   },
   "outputs": [],
   "source": [
    "grad_features = mnist.ImageFeatureModel(model_LGDC, 4, 8)"
   ]
  },
  {
   "cell_type": "code",
   "execution_count": 90,
   "metadata": {},
   "outputs": [
    {
     "name": "stdout",
     "output_type": "stream",
     "text": [
      "2019-11-06 22:53:01|\t0: TRAIN loss 2.2881,  acc 0.1300\n",
      "2019-11-06 22:53:02|\t10: TRAIN loss 0.1668,  acc 0.9540\n",
      "2019-11-06 22:53:04|\t20: TRAIN loss 0.1248,  acc 0.9660\n",
      "2019-11-06 22:53:05|\t30: TRAIN loss 0.1214,  acc 0.9710\n",
      "2019-11-06 22:53:07|\t40: TRAIN loss 0.0848,  acc 0.9850\n",
      "2019-11-06 22:53:09|\t50: TRAIN loss 0.1157,  acc 0.9660\n",
      "2019-11-06 22:53:10|\t60: TRAIN loss 0.1164,  acc 0.9640\n",
      "2019-11-06 22:53:12|\t70: TRAIN loss 0.1031,  acc 0.9700\n",
      "2019-11-06 22:53:13|\t80: TRAIN loss 0.0974,  acc 0.9700\n",
      "2019-11-06 22:53:15|\t90: TRAIN loss 0.0846,  acc 0.9760\n",
      "2019-11-06 22:53:16|\t99: TRAIN loss 0.0864,  acc 0.9730\n"
     ]
    },
    {
     "data": {
      "text/plain": [
       "<E4525_ML.multiclass_logistic.LogisticGDClassifier at 0x26a03864588>"
      ]
     },
     "execution_count": 90,
     "metadata": {},
     "output_type": "execute_result"
    }
   ],
   "source": [
    "grad_features.fit(images,labels)"
   ]
  },
  {
   "cell_type": "code",
   "execution_count": 91,
   "metadata": {},
   "outputs": [],
   "source": [
    "pred_labels = grad_features.predict(test_images)"
   ]
  },
  {
   "cell_type": "code",
   "execution_count": 92,
   "metadata": {},
   "outputs": [
    {
     "name": "stdout",
     "output_type": "stream",
     "text": [
      "Test Accuracy  0.977\n"
     ]
    }
   ],
   "source": [
    "print(\"Test Accuracy \",np.mean(pred_labels==test_labels))"
   ]
  }
 ],
 "metadata": {
  "kernelspec": {
   "display_name": "Python 3",
   "language": "python",
   "name": "python3"
  },
  "language_info": {
   "codemirror_mode": {
    "name": "ipython",
    "version": 3
   },
   "file_extension": ".py",
   "mimetype": "text/x-python",
   "name": "python",
   "nbconvert_exporter": "python",
   "pygments_lexer": "ipython3",
   "version": "3.7.3"
  },
  "toc": {
   "base_numbering": 1,
   "nav_menu": {},
   "number_sections": true,
   "sideBar": true,
   "skip_h1_title": true,
   "title_cell": "Table of Contents",
   "title_sidebar": "Contents",
   "toc_cell": false,
   "toc_position": {},
   "toc_section_display": "block",
   "toc_window_display": false
  }
 },
 "nbformat": 4,
 "nbformat_minor": 4
}
