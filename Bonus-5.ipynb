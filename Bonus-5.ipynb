{
 "cells": [
  {
   "cell_type": "markdown",
   "metadata": {
    "ExecuteTime": {
     "end_time": "2019-03-06T15:57:47.241128Z",
     "start_time": "2019-03-06T15:57:47.225528Z"
    }
   },
   "source": [
    "# Bonus Homework 5:  Fair Machine Learning\n",
    "\n",
    "The purpose of the data set is to compare classification of a mixed population (with a mixture of Gaussians distribution) with access and without access to the group attribute as worked out analytically on homework 5.\n",
    "\n",
    "The data was generated using the same assumptions used in written  homework 5 (problems 2 and 3). Completing  this notebook should help you verify your analytic calculations.\n",
    "\n",
    "When comparing results, take into account that this example here uses  only use a finite data sample (5,000 samples).  The empirically estimated rates should be close to the theoretical ones, but not identical."
   ]
  },
  {
   "cell_type": "markdown",
   "metadata": {},
   "source": [
    "## Preliminaries"
   ]
  },
  {
   "cell_type": "code",
   "execution_count": 60,
   "metadata": {
    "ExecuteTime": {
     "end_time": "2019-03-06T20:18:01.573228Z",
     "start_time": "2019-03-06T20:17:54.511328Z"
    }
   },
   "outputs": [],
   "source": [
    "import numpy as np\n",
    "import pandas as pd\n",
    "import os\n",
    "\n",
    "import matplotlib.pyplot  as plt \n",
    "\n",
    "from sklearn.discriminant_analysis import LinearDiscriminantAnalysis as LDA\n",
    "from sklearn.model_selection import train_test_split\n",
    "import sklearn.metrics as metrics\n",
    "from sklearn.metrics import accuracy_score\n",
    "\n",
    "%matplotlib inline"
   ]
  },
  {
   "cell_type": "markdown",
   "metadata": {},
   "source": [
    "## Prepare Data"
   ]
  },
  {
   "cell_type": "markdown",
   "metadata": {},
   "source": [
    "<div class=\"alert alert-block alert-info\"> Problem 0.1 </div>\n",
    "Read the file 'fair_ml_data.csv' provided with this homework set into a panda's data frame"
   ]
  },
  {
   "cell_type": "code",
   "execution_count": 61,
   "metadata": {
    "ExecuteTime": {
     "end_time": "2019-03-06T20:18:01.575728Z",
     "start_time": "2019-03-06T20:18:01.573228Z"
    }
   },
   "outputs": [
    {
     "data": {
      "text/plain": [
       "['Untitled Folder',\n",
       " 'Bonus_Homework5_FairML.ipynb',\n",
       " 'fair_ml.csv',\n",
       " 't10k-images-idx3-ubyte',\n",
       " '.DS_Store',\n",
       " 'JiteshGurav_HW5.ipynb',\n",
       " 'Untitled.ipynb',\n",
       " 't10k-labels-idx1-ubyte',\n",
       " 'train-images-idx3-ubyte',\n",
       " 'Homework_Lecture5.ipynb',\n",
       " '.ipynb_checkpoints',\n",
       " 'train-labels-idx1-ubyte']"
      ]
     },
     "execution_count": 61,
     "metadata": {},
     "output_type": "execute_result"
    }
   ],
   "source": [
    "os.listdir()"
   ]
  },
  {
   "cell_type": "code",
   "execution_count": 62,
   "metadata": {
    "ExecuteTime": {
     "end_time": "2019-03-06T20:18:01.595728Z",
     "start_time": "2019-03-06T20:18:01.575728Z"
    }
   },
   "outputs": [],
   "source": [
    "#filename=data_dir+\"/fair_ml_data.csv\"\n",
    "df = pd.read_csv(\"fair_ml.csv\")"
   ]
  },
  {
   "cell_type": "code",
   "execution_count": 66,
   "metadata": {
    "ExecuteTime": {
     "end_time": "2019-03-06T20:18:01.841228Z",
     "start_time": "2019-03-06T20:18:01.598228Z"
    }
   },
   "outputs": [],
   "source": [
    "df.shape\n",
    "X = df[[\"A\",\"X\"]]\n",
    "Y = df[\"Y\"]"
   ]
  },
  {
   "cell_type": "markdown",
   "metadata": {
    "ExecuteTime": {
     "end_time": "2019-03-06T18:07:48.360628Z",
     "start_time": "2019-03-06T18:07:48.339628Z"
    }
   },
   "source": [
    "<div class=\"alert alert-block alert-info\"> Problem 0.2 </div>\n",
    "Split data in a 50% training  and 50% valuation sets"
   ]
  },
  {
   "cell_type": "code",
   "execution_count": 67,
   "metadata": {
    "ExecuteTime": {
     "end_time": "2019-03-06T20:18:01.856828Z",
     "start_time": "2019-03-06T20:18:01.841228Z"
    }
   },
   "outputs": [],
   "source": [
    "X_train, X_test, y_train, y_test = train_test_split(X, Y, test_size=0.5, random_state=1)\n",
    "X_train, X_val, y_train, y_val = train_test_split(X_train, y_train, test_size=0.5, random_state=1)"
   ]
  },
  {
   "cell_type": "markdown",
   "metadata": {},
   "source": [
    "<div class=\"alert alert-block alert-info\"> Problem 0.3 </div>\n",
    "\n",
    "In this problem set you will need to fit LDA models to \n",
    "1. the majority group $a=0$ \n",
    "2. minority group $a=1$\n",
    "3. to the whole data set irrespective of group affiliation. \n",
    "\n",
    "Prepare `numpy` arrays for training and validation so  that you can fit those three models:\n",
    "1. Arrays `X0_train`,`X0_val`,`Y0_train`,`Y0_val` for members of the majority group `a=0`.\n",
    "2. Arrays `X1_train`,`X1_val`,`Y1_train`,`Y1_val` for members of the minority group `a=1`.\n",
    "3. Arrays `X_train`,`X_val`,`Y_train`,`Y_val` for all members irrespective of group affiliation.\n"
   ]
  },
  {
   "cell_type": "code",
   "execution_count": 68,
   "metadata": {
    "ExecuteTime": {
     "end_time": "2019-03-06T20:18:02.054828Z",
     "start_time": "2019-03-06T20:18:01.983028Z"
    }
   },
   "outputs": [],
   "source": [
    "data_0 = df[df['A'] == 0]\n",
    "X0 = data_0[[\"A\",\"X\"]]\n",
    "Y0 = data_0[\"Y\"]\n",
    "data_1 = df[df['A'] == 1]\n",
    "X1 = data_1[[\"A\",\"X\"]]\n",
    "Y1 = data_1[\"Y\"]"
   ]
  },
  {
   "cell_type": "code",
   "execution_count": 69,
   "metadata": {
    "ExecuteTime": {
     "end_time": "2019-03-06T20:18:02.054828Z",
     "start_time": "2019-03-06T20:18:01.983028Z"
    }
   },
   "outputs": [],
   "source": [
    "X0_train, X0_test, Y0_train, Y0_test = train_test_split(X0, Y0, test_size=0.5, random_state=1)\n",
    "X0_train, X0_val, Y0_train, Y0_val = train_test_split(X0_train, Y0_train, test_size=0.5, random_state=1)\n",
    "X1_train, X1_test, Y1_train, Y1_test = train_test_split(X1, Y1, test_size=0.5, random_state=1)\n",
    "X1_train, X1_val, Y1_train, Y1_val = train_test_split(X1_train, Y1_train, test_size=0.5, random_state=1)"
   ]
  },
  {
   "cell_type": "markdown",
   "metadata": {},
   "source": [
    "##  Per Group Classifiers"
   ]
  },
  {
   "cell_type": "markdown",
   "metadata": {},
   "source": [
    "### Majority Group model"
   ]
  },
  {
   "cell_type": "markdown",
   "metadata": {
    "ExecuteTime": {
     "end_time": "2019-03-06T18:21:36.350628Z",
     "start_time": "2019-03-06T18:21:36.330628Z"
    }
   },
   "source": [
    "<div class=\"alert alert-block alert-info\"> Problem 1.0 </div>\n",
    "Fit an LDA model to the training examples where $a=1$"
   ]
  },
  {
   "cell_type": "code",
   "execution_count": 70,
   "metadata": {
    "ExecuteTime": {
     "end_time": "2019-03-06T20:18:02.210228Z",
     "start_time": "2019-03-06T20:18:02.135328Z"
    }
   },
   "outputs": [
    {
     "name": "stderr",
     "output_type": "stream",
     "text": [
      "//anaconda3/lib/python3.7/site-packages/sklearn/discriminant_analysis.py:388: UserWarning: Variables are collinear.\n",
      "  warnings.warn(\"Variables are collinear.\")\n"
     ]
    },
    {
     "data": {
      "text/plain": [
       "LinearDiscriminantAnalysis(n_components=None, priors=None, shrinkage=None,\n",
       "                           solver='svd', store_covariance=False, tol=0.0001)"
      ]
     },
     "execution_count": 70,
     "metadata": {},
     "output_type": "execute_result"
    }
   ],
   "source": [
    "model1 = LDA()\n",
    "model1.fit(X1_train,Y1_train)"
   ]
  },
  {
   "cell_type": "markdown",
   "metadata": {},
   "source": [
    "<div class=\"alert alert-block alert-info\"> Problem 1.1 </div>\n",
    "Compute the model accuracy on the majority population $a=0$.\n",
    "\n",
    "Because of finite sample (we only have N=2,000 samples) you should get results close, but not identical to what you derived on the written homework."
   ]
  },
  {
   "cell_type": "code",
   "execution_count": 71,
   "metadata": {
    "ExecuteTime": {
     "end_time": "2019-03-06T20:18:02.220228Z",
     "start_time": "2019-03-06T20:18:02.210228Z"
    }
   },
   "outputs": [
    {
     "name": "stdout",
     "output_type": "stream",
     "text": [
      "model accuracy for population a=0 is: 0.15880062188495128\n"
     ]
    }
   ],
   "source": [
    "Y0_pred=model1.predict(X0_val)\n",
    "print(\"model accuracy for population a=0 is:\",np.mean(Y0_pred==Y0_val))"
   ]
  },
  {
   "cell_type": "markdown",
   "metadata": {},
   "source": [
    "<div class=\"alert alert-block alert-info\"> Problem 1.2 </div>\n",
    "Estimate  the rate of true positives and false negatives on the majority population $a=0$ using the validation data\n",
    "you set aside before.\n",
    "\n",
    "[HINT: The function `sklear.metrix.confusion_matrix may be useful]"
   ]
  },
  {
   "cell_type": "code",
   "execution_count": 72,
   "metadata": {
    "ExecuteTime": {
     "end_time": "2019-03-06T20:18:02.239228Z",
     "start_time": "2019-03-06T20:18:02.220228Z"
    }
   },
   "outputs": [
    {
     "name": "stdout",
     "output_type": "stream",
     "text": [
      "Ture positive rate is : 0.1000933955970647\n",
      "False positive rate is : 0.8314254016518059\n"
     ]
    }
   ],
   "source": [
    "con = metrics.confusion_matrix(Y0_val, Y0_pred)\n",
    "print(\"Ture positive rate is :\",con[0][0]/(con[0][0]+con[0][1]))\n",
    "print(\"False positive rate is :\",con[0][1]/(con[0][1]+con[1][1]))\n",
    "#print(\"True Positive Rate: \",)\n",
    "#print(\"False Positive Rate: \",FPR)"
   ]
  },
  {
   "cell_type": "markdown",
   "metadata": {},
   "source": [
    "### Minority Group Model"
   ]
  },
  {
   "cell_type": "markdown",
   "metadata": {
    "ExecuteTime": {
     "end_time": "2019-03-06T18:26:36.504628Z",
     "start_time": "2019-03-06T18:26:36.482628Z"
    }
   },
   "source": [
    "<div class=\"alert alert-block alert-info\"> Problem 2.0 </div>\n",
    "Fit an LDA model to the training examples where $a=0$"
   ]
  },
  {
   "cell_type": "code",
   "execution_count": 73,
   "metadata": {
    "ExecuteTime": {
     "end_time": "2019-03-06T20:18:02.358228Z",
     "start_time": "2019-03-06T20:18:02.328228Z"
    }
   },
   "outputs": [
    {
     "name": "stderr",
     "output_type": "stream",
     "text": [
      "//anaconda3/lib/python3.7/site-packages/sklearn/discriminant_analysis.py:388: UserWarning: Variables are collinear.\n",
      "  warnings.warn(\"Variables are collinear.\")\n"
     ]
    },
    {
     "data": {
      "text/plain": [
       "LinearDiscriminantAnalysis(n_components=None, priors=None, shrinkage=None,\n",
       "                           solver='svd', store_covariance=False, tol=0.0001)"
      ]
     },
     "execution_count": 73,
     "metadata": {},
     "output_type": "execute_result"
    }
   ],
   "source": [
    "model0 = LDA()\n",
    "model0.fit(X0_train,Y0_train)"
   ]
  },
  {
   "cell_type": "markdown",
   "metadata": {
    "ExecuteTime": {
     "end_time": "2019-03-06T18:28:41.697628Z",
     "start_time": "2019-03-06T18:28:41.675628Z"
    }
   },
   "source": [
    "<div class=\"alert alert-block alert-info\"> Problem 2.1 </div>\n",
    "Compute the model accuracy on the minority population $a=1$."
   ]
  },
  {
   "cell_type": "code",
   "execution_count": 74,
   "metadata": {
    "ExecuteTime": {
     "end_time": "2019-03-06T20:18:02.396928Z",
     "start_time": "2019-03-06T20:18:02.358228Z"
    }
   },
   "outputs": [
    {
     "name": "stdout",
     "output_type": "stream",
     "text": [
      "Validation Accuracy on minority population is: 0.02071532934371435\n"
     ]
    }
   ],
   "source": [
    "Y1_pred=model0.predict(X1_val)\n",
    "print(\"Validation Accuracy on minority population is:\",np.mean(Y1_pred==Y1_val))"
   ]
  },
  {
   "cell_type": "markdown",
   "metadata": {
    "ExecuteTime": {
     "end_time": "2019-03-06T18:29:39.436628Z",
     "start_time": "2019-03-06T18:29:39.417628Z"
    }
   },
   "source": [
    "<div class=\"alert alert-block alert-info\"> Problem 2.2 </div>\n",
    "Estimate  the rate of true positives and false negatives on the minority population $a=1$ using the validation data\n",
    "you set aside before."
   ]
  },
  {
   "cell_type": "code",
   "execution_count": 75,
   "metadata": {
    "ExecuteTime": {
     "end_time": "2019-03-06T20:18:02.409428Z",
     "start_time": "2019-03-06T20:18:02.396928Z"
    }
   },
   "outputs": [
    {
     "name": "stdout",
     "output_type": "stream",
     "text": [
      "Ture positive rate is : 0.03070386403719737\n",
      "False positive rate is : 0.9488346543200188\n"
     ]
    }
   ],
   "source": [
    "con1 = metrics.confusion_matrix(Y1_val, Y1_pred)\n",
    "print(\"Ture positive rate is :\",con1[0][0]/(con1[0][0]+con1[0][1]))\n",
    "print(\"False positive rate is :\",con1[0][1]/(con1[0][1]+con1[1][1]))"
   ]
  },
  {
   "cell_type": "markdown",
   "metadata": {
    "ExecuteTime": {
     "end_time": "2019-03-06T18:50:20.418628Z",
     "start_time": "2019-03-06T18:50:20.366628Z"
    }
   },
   "source": [
    "<div class=\"alert alert-block alert-info\"> Problem 2.3 </div>\n",
    "Calculate the accuracy on the overall population (including $a=0,1$) if we use different classifiers for $a=0$ and $a=1$"
   ]
  },
  {
   "cell_type": "code",
   "execution_count": 76,
   "metadata": {
    "ExecuteTime": {
     "end_time": "2019-03-06T20:18:02.515628Z",
     "start_time": "2019-03-06T20:18:02.503128Z"
    }
   },
   "outputs": [
    {
     "data": {
      "text/plain": [
       "0.02071532934371435"
      ]
     },
     "execution_count": 76,
     "metadata": {},
     "output_type": "execute_result"
    }
   ],
   "source": [
    "accuracy_score(Y1_val, Y1_pred)"
   ]
  },
  {
   "cell_type": "code",
   "execution_count": null,
   "metadata": {
    "ExecuteTime": {
     "end_time": "2019-03-06T20:18:02.515628Z",
     "start_time": "2019-03-06T20:18:02.503128Z"
    }
   },
   "outputs": [],
   "source": []
  },
  {
   "cell_type": "markdown",
   "metadata": {},
   "source": [
    "## Fair (Anti-Classification) Model\n",
    "\n",
    "<div class=\"alert alert-block alert-info\"> Problem 3.1 </div>\n",
    "Train an LDA model using the whole dataset to predict $y$ based on $x$ without making use of the $a$ attribute."
   ]
  },
  {
   "cell_type": "code",
   "execution_count": 77,
   "metadata": {
    "ExecuteTime": {
     "end_time": "2019-03-06T20:18:02.543128Z",
     "start_time": "2019-03-06T20:18:02.515628Z"
    }
   },
   "outputs": [
    {
     "data": {
      "text/plain": [
       "LinearDiscriminantAnalysis(n_components=None, priors=None, shrinkage=None,\n",
       "                           solver='svd', store_covariance=False, tol=0.0001)"
      ]
     },
     "execution_count": 77,
     "metadata": {},
     "output_type": "execute_result"
    }
   ],
   "source": [
    "model_all = LDA()\n",
    "model_all.fit(X_train,y_train)"
   ]
  },
  {
   "cell_type": "markdown",
   "metadata": {},
   "source": [
    "<div class=\"alert alert-block alert-info\"> Problem 3.1 </div>\n",
    "Estimate the accuracy of the fair model"
   ]
  },
  {
   "cell_type": "code",
   "execution_count": 78,
   "metadata": {
    "ExecuteTime": {
     "end_time": "2019-03-06T20:18:02.600628Z",
     "start_time": "2019-03-06T20:18:02.573128Z"
    }
   },
   "outputs": [
    {
     "data": {
      "text/plain": [
       "0.80106"
      ]
     },
     "execution_count": 78,
     "metadata": {},
     "output_type": "execute_result"
    }
   ],
   "source": [
    "y_pred = model_all.predict(X_train)\n",
    "\n",
    "accuracy_score(y_train, y_pred)"
   ]
  },
  {
   "cell_type": "markdown",
   "metadata": {},
   "source": [
    "<div class=\"alert alert-block alert-info\"> Problem 3.2 </div>\n",
    "Compute the accuracy the fair model when applied only to the majority population\n",
    "where $a=0$"
   ]
  },
  {
   "cell_type": "code",
   "execution_count": 80,
   "metadata": {
    "ExecuteTime": {
     "end_time": "2019-03-06T20:18:02.628128Z",
     "start_time": "2019-03-06T20:18:02.600628Z"
    }
   },
   "outputs": [
    {
     "data": {
      "text/plain": [
       "0.8284367392032475"
      ]
     },
     "execution_count": 80,
     "metadata": {},
     "output_type": "execute_result"
    }
   ],
   "source": [
    "y0_all = model_all.predict(X0_val)\n",
    "accuracy_score(Y0_val,y0_all)"
   ]
  },
  {
   "cell_type": "markdown",
   "metadata": {
    "ExecuteTime": {
     "end_time": "2019-03-06T20:20:12.936828Z",
     "start_time": "2019-03-06T20:20:12.890028Z"
    }
   },
   "source": [
    "<div class=\"alert alert-block alert-info\"> Problem 3.3 </div>\n",
    "Compute true positive and false positive rates for the majority population  ($a=0$)."
   ]
  },
  {
   "cell_type": "code",
   "execution_count": 81,
   "metadata": {
    "ExecuteTime": {
     "end_time": "2019-03-06T20:18:02.676828Z",
     "start_time": "2019-03-06T20:18:02.674328Z"
    }
   },
   "outputs": [
    {
     "name": "stdout",
     "output_type": "stream",
     "text": [
      "Ture positive rate is : 0.9323015343562375\n",
      "False positive rate is : 0.11108516383273735\n"
     ]
    }
   ],
   "source": [
    "con4 = metrics.confusion_matrix(Y0_val, y0_all)\n",
    "print(\"Ture positive rate is :\",con4[0][0]/(con4[0][0]+con4[0][1]))\n",
    "print(\"False positive rate is :\",con4[0][1]/(con4[0][1]+con4[1][1]))"
   ]
  },
  {
   "cell_type": "markdown",
   "metadata": {
    "ExecuteTime": {
     "end_time": "2019-03-06T18:48:15.064628Z",
     "start_time": "2019-03-06T18:48:15.040628Z"
    }
   },
   "source": [
    "<div class=\"alert alert-block alert-info\"> Problem 3.3 </div>\n",
    "Compute the accuracy the fair model when applied only to the majority population\n",
    "where $a=1$"
   ]
  },
  {
   "cell_type": "code",
   "execution_count": 82,
   "metadata": {
    "ExecuteTime": {
     "end_time": "2019-03-06T20:18:02.756828Z",
     "start_time": "2019-03-06T20:18:02.731828Z"
    }
   },
   "outputs": [
    {
     "data": {
      "text/plain": [
       "0.6953345475651983"
      ]
     },
     "execution_count": 82,
     "metadata": {},
     "output_type": "execute_result"
    }
   ],
   "source": [
    "y1_all = model_all.predict(X1_val)\n",
    "accuracy_score(Y1_val,y1_all)"
   ]
  },
  {
   "cell_type": "markdown",
   "metadata": {
    "ExecuteTime": {
     "end_time": "2019-03-06T20:21:13.306928Z",
     "start_time": "2019-03-06T20:21:13.260128Z"
    }
   },
   "source": [
    "<div class=\"alert alert-block alert-info\"> Problem 3.4 </div>\n",
    "Compute true positive and false positive rates for the minority population  ($a=1$)."
   ]
  },
  {
   "cell_type": "code",
   "execution_count": 84,
   "metadata": {
    "ExecuteTime": {
     "end_time": "2019-03-06T20:18:02.795528Z",
     "start_time": "2019-03-06T20:18:02.756828Z"
    }
   },
   "outputs": [
    {
     "name": "stdout",
     "output_type": "stream",
     "text": [
      "Ture positive rate is : 0.0\n",
      "False positive rate is : 0.16999645670364413\n"
     ]
    }
   ],
   "source": [
    "con6 = metrics.confusion_matrix(Y1_val, y1_all)\n",
    "print(\"Ture positive rate is :\",con6[0][0]/(con6[0][0]+con4[0][1]))\n",
    "print(\"False positive rate is :\",con6[0][1]/(con6[0][1]+con4[1][1]))"
   ]
  },
  {
   "cell_type": "code",
   "execution_count": null,
   "metadata": {},
   "outputs": [],
   "source": []
  }
 ],
 "metadata": {
  "kernelspec": {
   "display_name": "Python 3",
   "language": "python",
   "name": "python3"
  },
  "language_info": {
   "codemirror_mode": {
    "name": "ipython",
    "version": 3
   },
   "file_extension": ".py",
   "mimetype": "text/x-python",
   "name": "python",
   "nbconvert_exporter": "python",
   "pygments_lexer": "ipython3",
   "version": "3.7.3"
  },
  "toc": {
   "base_numbering": 1,
   "nav_menu": {},
   "number_sections": true,
   "sideBar": true,
   "skip_h1_title": true,
   "title_cell": "Table of Contents",
   "title_sidebar": "Contents",
   "toc_cell": false,
   "toc_position": {},
   "toc_section_display": true,
   "toc_window_display": true
  }
 },
 "nbformat": 4,
 "nbformat_minor": 4
}
